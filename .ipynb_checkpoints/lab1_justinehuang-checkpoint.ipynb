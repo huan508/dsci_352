{
 "cells": [
  {
   "cell_type": "markdown",
   "metadata": {},
   "source": [
    "# DSCI352 Lab 1 - Justine Huang\n",
    "\n",
    "Name: Justine Huang\n",
    "\n",
    "USC ID: 7470811061\n",
    "\n",
    "Email: huan508@usc.edu"
   ]
  },
  {
   "cell_type": "code",
   "execution_count": 46,
   "metadata": {},
   "outputs": [],
   "source": [
    "import numpy as np\n",
    "import pandas as pd\n",
    "from sklearn.neighbors import KNeighborsClassifier\n",
    "import seaborn as sns\n",
    "from scipy.io import arff\n",
    "import matplotlib.pyplot as plt\n",
    "from sklearn.neighbors import DistanceMetric\n",
    "from sklearn.metrics import accuracy_score, confusion_matrix, f1_score, precision_score\n",
    "from sklearn.model_selection import train_test_split\n",
    "from sklearn.metrics import precision_recall_fscore_support\n",
    "import math\n",
    "\n",
    "%matplotlib inline"
   ]
  },
  {
   "cell_type": "markdown",
   "metadata": {},
   "source": [
    "## a) Download the Vertebral Column Data Set from"
   ]
  },
  {
   "cell_type": "code",
   "execution_count": 47,
   "metadata": {},
   "outputs": [],
   "source": [
    "data = arff.loadarff('vertebral_column_data/column_2C_weka.arff')"
   ]
  },
  {
   "cell_type": "code",
   "execution_count": 48,
   "metadata": {},
   "outputs": [],
   "source": [
    "df = pd.DataFrame(data[0])\n",
    "df['class'] = df['class'].str.decode('utf-8')"
   ]
  },
  {
   "cell_type": "code",
   "execution_count": 49,
   "metadata": {},
   "outputs": [
    {
     "data": {
      "text/html": [
       "<div>\n",
       "<style scoped>\n",
       "    .dataframe tbody tr th:only-of-type {\n",
       "        vertical-align: middle;\n",
       "    }\n",
       "\n",
       "    .dataframe tbody tr th {\n",
       "        vertical-align: top;\n",
       "    }\n",
       "\n",
       "    .dataframe thead th {\n",
       "        text-align: right;\n",
       "    }\n",
       "</style>\n",
       "<table border=\"1\" class=\"dataframe\">\n",
       "  <thead>\n",
       "    <tr style=\"text-align: right;\">\n",
       "      <th></th>\n",
       "      <th>pelvic_incidence</th>\n",
       "      <th>pelvic_tilt</th>\n",
       "      <th>lumbar_lordosis_angle</th>\n",
       "      <th>sacral_slope</th>\n",
       "      <th>pelvic_radius</th>\n",
       "      <th>degree_spondylolisthesis</th>\n",
       "      <th>class</th>\n",
       "    </tr>\n",
       "  </thead>\n",
       "  <tbody>\n",
       "    <tr>\n",
       "      <th>0</th>\n",
       "      <td>63.027817</td>\n",
       "      <td>22.552586</td>\n",
       "      <td>39.609117</td>\n",
       "      <td>40.475232</td>\n",
       "      <td>98.672917</td>\n",
       "      <td>-0.254400</td>\n",
       "      <td>Abnormal</td>\n",
       "    </tr>\n",
       "    <tr>\n",
       "      <th>1</th>\n",
       "      <td>39.056951</td>\n",
       "      <td>10.060991</td>\n",
       "      <td>25.015378</td>\n",
       "      <td>28.995960</td>\n",
       "      <td>114.405425</td>\n",
       "      <td>4.564259</td>\n",
       "      <td>Abnormal</td>\n",
       "    </tr>\n",
       "    <tr>\n",
       "      <th>2</th>\n",
       "      <td>68.832021</td>\n",
       "      <td>22.218482</td>\n",
       "      <td>50.092194</td>\n",
       "      <td>46.613539</td>\n",
       "      <td>105.985135</td>\n",
       "      <td>-3.530317</td>\n",
       "      <td>Abnormal</td>\n",
       "    </tr>\n",
       "    <tr>\n",
       "      <th>3</th>\n",
       "      <td>69.297008</td>\n",
       "      <td>24.652878</td>\n",
       "      <td>44.311238</td>\n",
       "      <td>44.644130</td>\n",
       "      <td>101.868495</td>\n",
       "      <td>11.211523</td>\n",
       "      <td>Abnormal</td>\n",
       "    </tr>\n",
       "    <tr>\n",
       "      <th>4</th>\n",
       "      <td>49.712859</td>\n",
       "      <td>9.652075</td>\n",
       "      <td>28.317406</td>\n",
       "      <td>40.060784</td>\n",
       "      <td>108.168725</td>\n",
       "      <td>7.918501</td>\n",
       "      <td>Abnormal</td>\n",
       "    </tr>\n",
       "  </tbody>\n",
       "</table>\n",
       "</div>"
      ],
      "text/plain": [
       "   pelvic_incidence  pelvic_tilt  lumbar_lordosis_angle  sacral_slope  \\\n",
       "0         63.027817    22.552586              39.609117     40.475232   \n",
       "1         39.056951    10.060991              25.015378     28.995960   \n",
       "2         68.832021    22.218482              50.092194     46.613539   \n",
       "3         69.297008    24.652878              44.311238     44.644130   \n",
       "4         49.712859     9.652075              28.317406     40.060784   \n",
       "\n",
       "   pelvic_radius  degree_spondylolisthesis     class  \n",
       "0      98.672917                 -0.254400  Abnormal  \n",
       "1     114.405425                  4.564259  Abnormal  \n",
       "2     105.985135                 -3.530317  Abnormal  \n",
       "3     101.868495                 11.211523  Abnormal  \n",
       "4     108.168725                  7.918501  Abnormal  "
      ]
     },
     "execution_count": 49,
     "metadata": {},
     "output_type": "execute_result"
    }
   ],
   "source": [
    "df.head()"
   ]
  },
  {
   "cell_type": "markdown",
   "metadata": {},
   "source": [
    "## b) Pre-Processing and Exploratory Data Analysis"
   ]
  },
  {
   "cell_type": "markdown",
   "metadata": {},
   "source": [
    "### i. Make scatterplots of the independent variables in the dataset. Use color to show Classes 0 and 1"
   ]
  },
  {
   "cell_type": "markdown",
   "metadata": {},
   "source": [
    "##### Encode: 0 to Normal, 1 to Abnormal"
   ]
  },
  {
   "cell_type": "code",
   "execution_count": 50,
   "metadata": {},
   "outputs": [],
   "source": [
    "encode = {\"class\": {\"Normal\": 0, \"Abnormal\": 1}}\n",
    "df = df.replace(encode)"
   ]
  },
  {
   "cell_type": "code",
   "execution_count": 51,
   "metadata": {
    "scrolled": true
   },
   "outputs": [
    {
     "data": {
      "text/html": [
       "<div>\n",
       "<style scoped>\n",
       "    .dataframe tbody tr th:only-of-type {\n",
       "        vertical-align: middle;\n",
       "    }\n",
       "\n",
       "    .dataframe tbody tr th {\n",
       "        vertical-align: top;\n",
       "    }\n",
       "\n",
       "    .dataframe thead th {\n",
       "        text-align: right;\n",
       "    }\n",
       "</style>\n",
       "<table border=\"1\" class=\"dataframe\">\n",
       "  <thead>\n",
       "    <tr style=\"text-align: right;\">\n",
       "      <th></th>\n",
       "      <th>pelvic_incidence</th>\n",
       "      <th>pelvic_tilt</th>\n",
       "      <th>lumbar_lordosis_angle</th>\n",
       "      <th>sacral_slope</th>\n",
       "      <th>pelvic_radius</th>\n",
       "      <th>degree_spondylolisthesis</th>\n",
       "      <th>class</th>\n",
       "    </tr>\n",
       "  </thead>\n",
       "  <tbody>\n",
       "    <tr>\n",
       "      <th>0</th>\n",
       "      <td>63.027817</td>\n",
       "      <td>22.552586</td>\n",
       "      <td>39.609117</td>\n",
       "      <td>40.475232</td>\n",
       "      <td>98.672917</td>\n",
       "      <td>-0.254400</td>\n",
       "      <td>1</td>\n",
       "    </tr>\n",
       "    <tr>\n",
       "      <th>1</th>\n",
       "      <td>39.056951</td>\n",
       "      <td>10.060991</td>\n",
       "      <td>25.015378</td>\n",
       "      <td>28.995960</td>\n",
       "      <td>114.405425</td>\n",
       "      <td>4.564259</td>\n",
       "      <td>1</td>\n",
       "    </tr>\n",
       "    <tr>\n",
       "      <th>2</th>\n",
       "      <td>68.832021</td>\n",
       "      <td>22.218482</td>\n",
       "      <td>50.092194</td>\n",
       "      <td>46.613539</td>\n",
       "      <td>105.985135</td>\n",
       "      <td>-3.530317</td>\n",
       "      <td>1</td>\n",
       "    </tr>\n",
       "    <tr>\n",
       "      <th>3</th>\n",
       "      <td>69.297008</td>\n",
       "      <td>24.652878</td>\n",
       "      <td>44.311238</td>\n",
       "      <td>44.644130</td>\n",
       "      <td>101.868495</td>\n",
       "      <td>11.211523</td>\n",
       "      <td>1</td>\n",
       "    </tr>\n",
       "    <tr>\n",
       "      <th>4</th>\n",
       "      <td>49.712859</td>\n",
       "      <td>9.652075</td>\n",
       "      <td>28.317406</td>\n",
       "      <td>40.060784</td>\n",
       "      <td>108.168725</td>\n",
       "      <td>7.918501</td>\n",
       "      <td>1</td>\n",
       "    </tr>\n",
       "  </tbody>\n",
       "</table>\n",
       "</div>"
      ],
      "text/plain": [
       "   pelvic_incidence  pelvic_tilt  lumbar_lordosis_angle  sacral_slope  \\\n",
       "0         63.027817    22.552586              39.609117     40.475232   \n",
       "1         39.056951    10.060991              25.015378     28.995960   \n",
       "2         68.832021    22.218482              50.092194     46.613539   \n",
       "3         69.297008    24.652878              44.311238     44.644130   \n",
       "4         49.712859     9.652075              28.317406     40.060784   \n",
       "\n",
       "   pelvic_radius  degree_spondylolisthesis  class  \n",
       "0      98.672917                 -0.254400      1  \n",
       "1     114.405425                  4.564259      1  \n",
       "2     105.985135                 -3.530317      1  \n",
       "3     101.868495                 11.211523      1  \n",
       "4     108.168725                  7.918501      1  "
      ]
     },
     "execution_count": 51,
     "metadata": {},
     "output_type": "execute_result"
    }
   ],
   "source": [
    "df.head()"
   ]
  },
  {
   "cell_type": "markdown",
   "metadata": {},
   "source": [
    "##### Scatterplots of all independent variables against each other"
   ]
  },
  {
   "cell_type": "code",
   "execution_count": 85,
   "metadata": {},
   "outputs": [],
   "source": [
    "sns.pairplot(data=df, hue = 'class', plot_kws={'alpha':0.4})"
   ]
  },
  {
   "cell_type": "markdown",
   "metadata": {},
   "source": [
    "The pairplot created from the line above is shown in the image below. It wouldn't let me save the jupyter notebook if I ran the line of code (I think because it took up too much memory).\n",
    "\n",
    "![independentvars_pairplot](pairplot1.png)"
   ]
  },
  {
   "cell_type": "markdown",
   "metadata": {},
   "source": [
    "### ii. Make boxplots for each of the independent variables. Use color to show Classes 0 and 1"
   ]
  },
  {
   "cell_type": "markdown",
   "metadata": {},
   "source": [
    "##### pelvic_incidence"
   ]
  },
  {
   "cell_type": "code",
   "execution_count": 53,
   "metadata": {},
   "outputs": [
    {
     "data": {
      "image/png": "[encoded data removed]",
      "text/plain": [
       "<Figure size 432x288 with 1 Axes>"
      ]
     },
     "metadata": {
      "needs_background": "light"
     },
     "output_type": "display_data"
    }
   ],
   "source": [
    "pi_boxplot = sns.boxplot(data=df, x='class', y='pelvic_incidence')"
   ]
  },
  {
   "cell_type": "markdown",
   "metadata": {},
   "source": [
    "##### pelvic_tilt"
   ]
  },
  {
   "cell_type": "code",
   "execution_count": 54,
   "metadata": {},
   "outputs": [
    {
     "data": {
      "image/png": "[encoded data removed]",
      "text/plain": [
       "<Figure size 432x288 with 1 Axes>"
      ]
     },
     "metadata": {
      "needs_background": "light"
     },
     "output_type": "display_data"
    }
   ],
   "source": [
    "pt_boxplot = sns.boxplot(data=df, x='class', y='pelvic_tilt')"
   ]
  },
  {
   "cell_type": "markdown",
   "metadata": {},
   "source": [
    "##### lumbar_lordosis_angle"
   ]
  },
  {
   "cell_type": "code",
   "execution_count": 55,
   "metadata": {},
   "outputs": [
    {
     "data": {
      "image/png": "[encoded data removed]",
      "text/plain": [
       "<Figure size 432x288 with 1 Axes>"
      ]
     },
     "metadata": {
      "needs_background": "light"
     },
     "output_type": "display_data"
    }
   ],
   "source": [
    "lla_boxplot = sns.boxplot(data=df, x='class', y='lumbar_lordosis_angle')"
   ]
  },
  {
   "cell_type": "markdown",
   "metadata": {},
   "source": [
    "##### sacral_slope"
   ]
  },
  {
   "cell_type": "code",
   "execution_count": 56,
   "metadata": {},
   "outputs": [
    {
     "data": {
      "image/png": "[encoded data removed]",
      "text/plain": [
       "<Figure size 432x288 with 1 Axes>"
      ]
     },
     "metadata": {
      "needs_background": "light"
     },
     "output_type": "display_data"
    }
   ],
   "source": [
    "ss_boxplot = sns.boxplot(data=df, x='class', y='sacral_slope')"
   ]
  },
  {
   "cell_type": "markdown",
   "metadata": {},
   "source": [
    "##### pelvic_radius"
   ]
  },
  {
   "cell_type": "code",
   "execution_count": 57,
   "metadata": {},
   "outputs": [
    {
     "data": {
      "image/png": "[encoded data removed]",
      "text/plain": [
       "<Figure size 432x288 with 1 Axes>"
      ]
     },
     "metadata": {
      "needs_background": "light"
     },
     "output_type": "display_data"
    }
   ],
   "source": [
    "pr_boxplot = sns.boxplot(data=df, x='class', y='pelvic_radius')"
   ]
  },
  {
   "cell_type": "markdown",
   "metadata": {},
   "source": [
    "##### degree_spondylolisthesis"
   ]
  },
  {
   "cell_type": "code",
   "execution_count": 58,
   "metadata": {},
   "outputs": [
    {
     "data": {
      "image/png": "[encoded data removed]",
      "text/plain": [
       "<Figure size 288x576 with 1 Axes>"
      ]
     },
     "metadata": {
      "needs_background": "light"
     },
     "output_type": "display_data"
    }
   ],
   "source": [
    "plt.figure(figsize=(4,8))\n",
    "ds_boxplot = sns.boxplot(data=df, x='class', y='degree_spondylolisthesis')"
   ]
  },
  {
   "cell_type": "markdown",
   "metadata": {},
   "source": [
    "### iii. Select the first 70 rows of Class 0 and the first 140 rows of Class 1 as the training set and the rest of the data as the test set."
   ]
  },
  {
   "cell_type": "code",
   "execution_count": 59,
   "metadata": {},
   "outputs": [],
   "source": [
    "#training data: first 70 rows from class 0, first 140 rows from class 1\n",
    "train_0 = df.loc[df['class'] == 0][:70]\n",
    "train_1 = df.loc[df['class'] == 1][:140]"
   ]
  },
  {
   "cell_type": "code",
   "execution_count": 60,
   "metadata": {},
   "outputs": [],
   "source": [
    "#test data: rest of rows from class 0, rest of rows from class 1\n",
    "test_0 = df.loc[df['class'] == 0][70:]\n",
    "test_1 = df.loc[df['class'] == 1][140:]"
   ]
  },
  {
   "cell_type": "code",
   "execution_count": 61,
   "metadata": {},
   "outputs": [],
   "source": [
    "#combine train data, combine test data\n",
    "train = train_0.append(train_1)\n",
    "test = test_0.append(test_1)"
   ]
  },
  {
   "cell_type": "code",
   "execution_count": 62,
   "metadata": {},
   "outputs": [
    {
     "name": "stdout",
     "output_type": "stream",
     "text": [
      "   pelvic_incidence  pelvic_tilt  lumbar_lordosis_angle  sacral_slope  \\\n",
      "0         38.505273    16.964297              35.112814     21.540976   \n",
      "1         54.920858    18.968430              51.601455     35.952428   \n",
      "2         44.362490     8.945435              46.902096     35.417055   \n",
      "3         48.318931    17.452121              48.000000     30.866809   \n",
      "4         45.701789    10.659859              42.577846     35.041929   \n",
      "\n",
      "   pelvic_radius  degree_spondylolisthesis  class  \n",
      "0     127.632875                  7.986683      0  \n",
      "1     125.846646                  2.001642      0  \n",
      "2     129.220682                  4.994195      0  \n",
      "3     128.980308                 -0.910941      0  \n",
      "4     130.178314                 -3.388910      0  \n",
      "   pelvic_incidence  pelvic_tilt  lumbar_lordosis_angle  sacral_slope  \\\n",
      "0         50.086153    13.430044              34.457541     36.656108   \n",
      "1         64.261507    14.497866              43.902504     49.763642   \n",
      "2         53.683380    13.447022              41.584297     40.236358   \n",
      "3         48.995958    13.113820              51.873520     35.882137   \n",
      "4         59.167612    14.562749              43.199158     44.604863   \n",
      "\n",
      "   pelvic_radius  degree_spondylolisthesis  class  \n",
      "0     119.134622                  3.089484      0  \n",
      "1     115.388268                  5.951454      0  \n",
      "2     113.913703                  2.737035      0  \n",
      "3     126.398188                  0.535472      0  \n",
      "4     121.035642                  2.830504      0  \n"
     ]
    }
   ],
   "source": [
    "#reset indices\n",
    "train.reset_index(drop=True,inplace=True)\n",
    "test.reset_index(drop=True,inplace=True)\n",
    "print(train.head())\n",
    "print(test.head())"
   ]
  },
  {
   "cell_type": "code",
   "execution_count": 63,
   "metadata": {},
   "outputs": [
    {
     "name": "stdout",
     "output_type": "stream",
     "text": [
      "<class 'pandas.core.frame.DataFrame'>\n",
      "RangeIndex: 210 entries, 0 to 209\n",
      "Data columns (total 7 columns):\n",
      " #   Column                    Non-Null Count  Dtype  \n",
      "---  ------                    --------------  -----  \n",
      " 0   pelvic_incidence          210 non-null    float64\n",
      " 1   pelvic_tilt               210 non-null    float64\n",
      " 2   lumbar_lordosis_angle     210 non-null    float64\n",
      " 3   sacral_slope              210 non-null    float64\n",
      " 4   pelvic_radius             210 non-null    float64\n",
      " 5   degree_spondylolisthesis  210 non-null    float64\n",
      " 6   class                     210 non-null    int64  \n",
      "dtypes: float64(6), int64(1)\n",
      "memory usage: 11.6 KB\n",
      "<class 'pandas.core.frame.DataFrame'>\n",
      "RangeIndex: 100 entries, 0 to 99\n",
      "Data columns (total 7 columns):\n",
      " #   Column                    Non-Null Count  Dtype  \n",
      "---  ------                    --------------  -----  \n",
      " 0   pelvic_incidence          100 non-null    float64\n",
      " 1   pelvic_tilt               100 non-null    float64\n",
      " 2   lumbar_lordosis_angle     100 non-null    float64\n",
      " 3   sacral_slope              100 non-null    float64\n",
      " 4   pelvic_radius             100 non-null    float64\n",
      " 5   degree_spondylolisthesis  100 non-null    float64\n",
      " 6   class                     100 non-null    int64  \n",
      "dtypes: float64(6), int64(1)\n",
      "memory usage: 5.6 KB\n"
     ]
    }
   ],
   "source": [
    "train.info()\n",
    "test.info()"
   ]
  },
  {
   "cell_type": "code",
   "execution_count": 64,
   "metadata": {},
   "outputs": [],
   "source": [
    "#split x and y values\n",
    "X_train = train.iloc[:,:-1]\n",
    "Y_train = train.iloc[:,-1]\n",
    "X_test = test.iloc[:,:-1]\n",
    "Y_test = test.iloc[:,-1]"
   ]
  },
  {
   "cell_type": "markdown",
   "metadata": {},
   "source": [
    "## c) Classification using KNN on Vertebral Column Data Set"
   ]
  },
  {
   "cell_type": "markdown",
   "metadata": {},
   "source": [
    "### i. Write code for k-nearest neighbors with Euclidean metric (or use a software package)"
   ]
  },
  {
   "cell_type": "markdown",
   "metadata": {},
   "source": [
    "implemented below"
   ]
  },
  {
   "cell_type": "markdown",
   "metadata": {},
   "source": [
    "### ii. Test all the data in the test database with k nearest neighbors. Take decisions by majority polling. Plot train and test errors in terms of k for k ∈ {208, 205, . . . , 7, 4, 1, } (in reverse order). Which k∗ is the most suitable k among those values? Cal-culate the confusion matrix, true positive rate, true negative rate, precision, and F1-score when k = k*."
   ]
  },
  {
   "cell_type": "markdown",
   "metadata": {},
   "source": [
    "##### Find training and test errors for each k"
   ]
  },
  {
   "cell_type": "code",
   "execution_count": 65,
   "metadata": {},
   "outputs": [
    {
     "name": "stdout",
     "output_type": "stream",
     "text": [
      "k = 208 acc: 0.7 train_error: 0.33333333333333337 test_error: 0.30000000000000004\n",
      "k = 205 acc: 0.7 train_error: 0.33333333333333337 test_error: 0.30000000000000004\n",
      "k = 202 acc: 0.7 train_error: 0.33333333333333337 test_error: 0.30000000000000004\n",
      "k = 199 acc: 0.7 train_error: 0.33333333333333337 test_error: 0.30000000000000004\n",
      "k = 196 acc: 0.7 train_error: 0.33333333333333337 test_error: 0.30000000000000004\n",
      "k = 193 acc: 0.7 train_error: 0.33333333333333337 test_error: 0.30000000000000004\n",
      "k = 190 acc: 0.7 train_error: 0.33333333333333337 test_error: 0.30000000000000004\n",
      "k = 187 acc: 0.7 train_error: 0.33333333333333337 test_error: 0.30000000000000004\n",
      "k = 184 acc: 0.7 train_error: 0.33333333333333337 test_error: 0.30000000000000004\n",
      "k = 181 acc: 0.7 train_error: 0.33333333333333337 test_error: 0.30000000000000004\n",
      "k = 178 acc: 0.7 train_error: 0.33333333333333337 test_error: 0.30000000000000004\n",
      "k = 175 acc: 0.7 train_error: 0.33333333333333337 test_error: 0.30000000000000004\n",
      "k = 172 acc: 0.7 train_error: 0.33333333333333337 test_error: 0.30000000000000004\n",
      "k = 169 acc: 0.7 train_error: 0.33333333333333337 test_error: 0.30000000000000004\n",
      "k = 166 acc: 0.7 train_error: 0.33333333333333337 test_error: 0.30000000000000004\n",
      "k = 163 acc: 0.7 train_error: 0.33333333333333337 test_error: 0.30000000000000004\n",
      "k = 160 acc: 0.7 train_error: 0.33333333333333337 test_error: 0.30000000000000004\n",
      "k = 157 acc: 0.7 train_error: 0.33333333333333337 test_error: 0.30000000000000004\n",
      "k = 154 acc: 0.7 train_error: 0.33333333333333337 test_error: 0.30000000000000004\n",
      "k = 151 acc: 0.7 train_error: 0.33333333333333337 test_error: 0.30000000000000004\n",
      "k = 148 acc: 0.7 train_error: 0.33333333333333337 test_error: 0.30000000000000004\n",
      "k = 145 acc: 0.7 train_error: 0.33333333333333337 test_error: 0.30000000000000004\n",
      "k = 142 acc: 0.7 train_error: 0.33333333333333337 test_error: 0.30000000000000004\n",
      "k = 139 acc: 0.7 train_error: 0.33333333333333337 test_error: 0.30000000000000004\n",
      "k = 136 acc: 0.72 train_error: 0.30952380952380953 test_error: 0.28\n",
      "k = 133 acc: 0.73 train_error: 0.29047619047619044 test_error: 0.27\n",
      "k = 130 acc: 0.76 train_error: 0.24761904761904763 test_error: 0.24\n",
      "k = 127 acc: 0.77 train_error: 0.24761904761904763 test_error: 0.22999999999999998\n",
      "k = 124 acc: 0.8 train_error: 0.2142857142857143 test_error: 0.19999999999999996\n",
      "k = 121 acc: 0.78 train_error: 0.2142857142857143 test_error: 0.21999999999999997\n",
      "k = 118 acc: 0.85 train_error: 0.18571428571428572 test_error: 0.15000000000000002\n",
      "k = 115 acc: 0.8 train_error: 0.20952380952380956 test_error: 0.19999999999999996\n",
      "k = 112 acc: 0.84 train_error: 0.16666666666666663 test_error: 0.16000000000000003\n",
      "k = 109 acc: 0.84 train_error: 0.17142857142857137 test_error: 0.16000000000000003\n",
      "k = 106 acc: 0.85 train_error: 0.1523809523809524 test_error: 0.15000000000000002\n",
      "k = 103 acc: 0.82 train_error: 0.15714285714285714 test_error: 0.18000000000000005\n",
      "k = 100 acc: 0.86 train_error: 0.17619047619047623 test_error: 0.14\n",
      "k = 97 acc: 0.84 train_error: 0.1523809523809524 test_error: 0.16000000000000003\n",
      "k = 94 acc: 0.85 train_error: 0.15714285714285714 test_error: 0.15000000000000002\n",
      "k = 91 acc: 0.84 train_error: 0.16666666666666663 test_error: 0.16000000000000003\n",
      "k = 88 acc: 0.83 train_error: 0.17619047619047623 test_error: 0.17000000000000004\n",
      "k = 85 acc: 0.84 train_error: 0.17142857142857137 test_error: 0.16000000000000003\n",
      "k = 82 acc: 0.86 train_error: 0.18095238095238098 test_error: 0.14\n",
      "k = 79 acc: 0.87 train_error: 0.18571428571428572 test_error: 0.13\n",
      "k = 76 acc: 0.88 train_error: 0.17619047619047623 test_error: 0.12\n",
      "k = 73 acc: 0.87 train_error: 0.16666666666666663 test_error: 0.13\n",
      "k = 70 acc: 0.88 train_error: 0.16190476190476188 test_error: 0.12\n",
      "k = 67 acc: 0.87 train_error: 0.16666666666666663 test_error: 0.13\n",
      "k = 64 acc: 0.88 train_error: 0.16190476190476188 test_error: 0.12\n",
      "k = 61 acc: 0.88 train_error: 0.16190476190476188 test_error: 0.12\n",
      "k = 58 acc: 0.88 train_error: 0.16666666666666663 test_error: 0.12\n",
      "k = 55 acc: 0.88 train_error: 0.17142857142857137 test_error: 0.12\n",
      "k = 52 acc: 0.89 train_error: 0.16190476190476188 test_error: 0.10999999999999999\n",
      "k = 49 acc: 0.89 train_error: 0.16190476190476188 test_error: 0.10999999999999999\n",
      "k = 46 acc: 0.88 train_error: 0.1523809523809524 test_error: 0.12\n",
      "k = 43 acc: 0.88 train_error: 0.16190476190476188 test_error: 0.12\n",
      "k = 40 acc: 0.9 train_error: 0.16666666666666663 test_error: 0.09999999999999998\n",
      "k = 37 acc: 0.89 train_error: 0.1523809523809524 test_error: 0.10999999999999999\n",
      "k = 34 acc: 0.89 train_error: 0.1523809523809524 test_error: 0.10999999999999999\n",
      "k = 31 acc: 0.89 train_error: 0.14761904761904765 test_error: 0.10999999999999999\n",
      "k = 28 acc: 0.9 train_error: 0.13809523809523805 test_error: 0.09999999999999998\n",
      "k = 25 acc: 0.89 train_error: 0.13809523809523805 test_error: 0.10999999999999999\n",
      "k = 22 acc: 0.9 train_error: 0.1523809523809524 test_error: 0.09999999999999998\n",
      "k = 19 acc: 0.89 train_error: 0.14761904761904765 test_error: 0.10999999999999999\n",
      "k = 16 acc: 0.91 train_error: 0.15714285714285714 test_error: 0.08999999999999997\n",
      "k = 13 acc: 0.88 train_error: 0.1428571428571429 test_error: 0.12\n",
      "k = 10 acc: 0.9 train_error: 0.1333333333333333 test_error: 0.09999999999999998\n",
      "k = 7 acc: 0.88 train_error: 0.1428571428571429 test_error: 0.12\n",
      "k = 4 acc: 0.94 train_error: 0.1428571428571429 test_error: 0.06000000000000005\n",
      "k = 1 acc: 0.87 train_error: 0.0 test_error: 0.13\n"
     ]
    }
   ],
   "source": [
    "accuracies = []\n",
    "train_errors = []\n",
    "test_errors = []\n",
    "\n",
    "#test data for k ∈ {208, 205, . . . , 7, 4, 1, } nearest neighbors\n",
    "#for each k, print prediction accuracy, training error (1- training accuracy), testing error (1- test accuracy)\n",
    "for i in range(208, 0, -3):\n",
    "    #euclidean metric: p=2 or metric=\"euclidean\"\n",
    "    classifier = KNeighborsClassifier(n_neighbors=i, p=2)\n",
    "    classifier.fit(X_train, Y_train)\n",
    "    \n",
    "    y_pred = classifier.predict(X_test)\n",
    "    train_error = 1 - classifier.score(X_train, Y_train)\n",
    "    test_error = 1 - classifier.score(X_test, Y_test)\n",
    "    train_errors.append(train_error)\n",
    "    test_errors.append(test_error)\n",
    "    accuracies.append(accuracy_score(Y_test, y_pred))\n",
    "    print(\"k =\", i, \"acc:\", accuracy_score(Y_test, y_pred), \"train_error:\", train_error, \"test_error:\", test_error)\n",
    "    \n",
    "# print(accuracies)"
   ]
  },
  {
   "cell_type": "code",
   "execution_count": 66,
   "metadata": {},
   "outputs": [],
   "source": [
    "#make a list of the k's\n",
    "k_list = []\n",
    "for i in range(208, 0, -3):\n",
    "    k_list.append(i)"
   ]
  },
  {
   "cell_type": "markdown",
   "metadata": {},
   "source": [
    "##### Finding k*, the optimal k"
   ]
  },
  {
   "cell_type": "code",
   "execution_count": 67,
   "metadata": {},
   "outputs": [
    {
     "name": "stdout",
     "output_type": "stream",
     "text": [
      "k* = 4 is the most suitable k for k ∈ {208, 205, . . . , 7, 4, 1, }.\n"
     ]
    }
   ],
   "source": [
    "k_best = k_list[np.argmax(accuracies)]\n",
    "print(\"k* =\", k_best,\"is the most suitable k for k ∈ {208, 205, . . . , 7, 4, 1, }.\")"
   ]
  },
  {
   "cell_type": "markdown",
   "metadata": {},
   "source": [
    "##### Plot train and test errors for each k"
   ]
  },
  {
   "cell_type": "code",
   "execution_count": 81,
   "metadata": {},
   "outputs": [
    {
     "data": {
      "text/plain": [
       "Text(0, 0.5, 'Error')"
      ]
     },
     "execution_count": 81,
     "metadata": {},
     "output_type": "execute_result"
    },
    {
     "data": {
      "image/png": "[encoded data removed]",
      "text/plain": [
       "<Figure size 432x288 with 1 Axes>"
      ]
     },
     "metadata": {
      "needs_background": "light"
     },
     "output_type": "display_data"
    }
   ],
   "source": [
    "plt.plot(k_list, train_errors, label = 'train error')\n",
    "plt.plot(k_list, test_errors, label = 'test error')\n",
    "plt.vlines(k_best, plt.ylim()[0], np.max(test_errors), label='k*')\n",
    "plt.xlim(208,0) #flip x axis\n",
    "plt.legend()\n",
    "plt.xlabel(\"k\")\n",
    "plt.ylabel(\"Error\")"
   ]
  },
  {
   "cell_type": "markdown",
   "metadata": {},
   "source": [
    "##### Using k* to find confusion matrix, f1 score, true positive rate, true negative rate, precision"
   ]
  },
  {
   "cell_type": "code",
   "execution_count": 69,
   "metadata": {},
   "outputs": [],
   "source": [
    "classifier = KNeighborsClassifier(n_neighbors = 4, p=2)\n",
    "classifier.fit(X_train, Y_train)\n",
    "y_pred = classifier.predict(X_test)"
   ]
  },
  {
   "cell_type": "code",
   "execution_count": 70,
   "metadata": {},
   "outputs": [
    {
     "data": {
      "text/plain": [
       "(25, 5, 1, 69)"
      ]
     },
     "execution_count": 70,
     "metadata": {},
     "output_type": "execute_result"
    }
   ],
   "source": [
    "tn, fp, fn, tp = confusion_matrix(Y_test, y_pred).ravel()\n",
    "(tn, fp, fn, tp)"
   ]
  },
  {
   "cell_type": "code",
   "execution_count": 71,
   "metadata": {},
   "outputs": [
    {
     "name": "stdout",
     "output_type": "stream",
     "text": [
      "confusion matrix:\n",
      " [[25  5]\n",
      " [ 1 69]] \n",
      "\n",
      "f1_score (class 0):\n",
      " 0.8928571428571429 \n",
      "\n",
      "f1_score (class 1):\n",
      " 0.9583333333333333 \n",
      "\n",
      "true positive rate: 0.9857142857142858 \n",
      "\n",
      "true negative rate: 0.8333333333333334 \n",
      "\n",
      "precision: 0.9324324324324325\n"
     ]
    }
   ],
   "source": [
    "#confusion matrix\n",
    "print(\"confusion matrix:\\n\", confusion_matrix(Y_test, y_pred), \"\\n\")\n",
    "\n",
    "#f1 score\n",
    "# print(\"f1_score:\\n\", f1_score(Y_test, y_pred, average=None), \"\\n\")\n",
    "print(\"f1_score (class 0):\\n\", f1_score(Y_test, y_pred, average=None)[0], \"\\n\")\n",
    "print(\"f1_score (class 1):\\n\", f1_score(Y_test, y_pred, average=None)[1], \"\\n\")\n",
    "\n",
    "#true positive rate: TP/actual yes = tp/(fn+tp)\n",
    "tp_rate = tp / (fn + tp)\n",
    "print(\"true positive rate:\", tp_rate, \"\\n\")\n",
    "\n",
    "#true negative rate: TN/actual no = tn/(tn + fp)\n",
    "tn_rate = tn / (tn + fp)\n",
    "print(\"true negative rate:\", tn_rate, \"\\n\")\n",
    "\n",
    "#precision: TP/predicted yes = tp/(fp + tp)\n",
    "prec = tp / (fp + tp)\n",
    "print(\"precision:\", prec)"
   ]
  },
  {
   "cell_type": "code",
   "execution_count": 72,
   "metadata": {},
   "outputs": [],
   "source": [
    "# precision_recall_fscore_support(Y_test.toseries(), y_pred)\n",
    "# https://stats.stackexchange.com/questions/95209/how-can-i-interpret-a-confusion-matrix\n",
    "# pd.crosstab(Y_train, y_pred, rownames=['True'], colnames=['Predicted'], margins=True)"
   ]
  },
  {
   "cell_type": "markdown",
   "metadata": {},
   "source": [
    "### iii. Plot the best test error rate, which is obtained by some value of k, against the size of training set, when the size of training set is N ∈ {10,20,30,...,210}."
   ]
  },
  {
   "cell_type": "code",
   "execution_count": 73,
   "metadata": {},
   "outputs": [
    {
     "name": "stdout",
     "output_type": "stream",
     "text": [
      "<class 'pandas.core.frame.DataFrame'>\n",
      "RangeIndex: 100 entries, 0 to 99\n",
      "Data columns (total 7 columns):\n",
      " #   Column                    Non-Null Count  Dtype  \n",
      "---  ------                    --------------  -----  \n",
      " 0   pelvic_incidence          100 non-null    float64\n",
      " 1   pelvic_tilt               100 non-null    float64\n",
      " 2   lumbar_lordosis_angle     100 non-null    float64\n",
      " 3   sacral_slope              100 non-null    float64\n",
      " 4   pelvic_radius             100 non-null    float64\n",
      " 5   degree_spondylolisthesis  100 non-null    float64\n",
      " 6   class                     100 non-null    int64  \n",
      "dtypes: float64(6), int64(1)\n",
      "memory usage: 5.6 KB\n"
     ]
    }
   ],
   "source": [
    "test.info()"
   ]
  },
  {
   "cell_type": "markdown",
   "metadata": {},
   "source": [
    "##### Find best error rate for subsets of training set"
   ]
  },
  {
   "cell_type": "code",
   "execution_count": 74,
   "metadata": {},
   "outputs": [],
   "source": [
    "#keep track of each best rest error and optimal k for each training set size N\n",
    "n_list = []\n",
    "best_test_error_list = []\n",
    "optimal_k_list = []\n",
    "\n",
    "# size of training set is N ∈ {10,20,30,...,210}\n",
    "for n in range(10,211,10):\n",
    "    #training data: first floor(n/3) rows from class 0, first floor(n-(n/3)) rows from class 1\n",
    "    subset_train_0 = train.loc[train['class'] == 0][:math.floor(n/3)]\n",
    "    subset_train_1 = train.loc[train['class'] == 1][:n-math.floor(n/3)]\n",
    "    \n",
    "    #combine train data\n",
    "    subset_train = subset_train_0.append(subset_train_1)\n",
    "    subset_train.reset_index(drop=True,inplace=True)\n",
    "    \n",
    "    #split x and y\n",
    "    X_train_subset = subset_train.iloc[:,:-1]\n",
    "    Y_train_subset = subset_train.iloc[:,-1]\n",
    "    \n",
    "    accuracies2 = []\n",
    "    train_errors2 = []\n",
    "    test_errors2 = []\n",
    "    best_test_error = 1\n",
    "    optimal_k = 1\n",
    "\n",
    "    #create model for each k for k ∈ {1,6,11,...,k}\n",
    "    for i in range(1, n, 5):\n",
    "        classifier2 = KNeighborsClassifier(n_neighbors=i, p=2)\n",
    "        classifier2.fit(X_train_subset, Y_train_subset)\n",
    "\n",
    "        #predict with test set from 1(b)iii\n",
    "        y_pred2 = classifier2.predict(X_test)\n",
    "        train_error = 1 - classifier2.score(X_train_subset, Y_train_subset)\n",
    "        test_error = 1 - classifier2.score(X_test, Y_test)\n",
    "        train_errors2.append(train_error)\n",
    "        test_errors2.append(test_error)\n",
    "        accuracies2.append(accuracy_score(Y_test, y_pred2))\n",
    "        #print(\"n =\", n, \"k =\", i, \"acc:\", accuracy_score(Y_test, y_pred2), \"train_error:\", train_error, \"test_error:\", test_error)\n",
    "        #for each k in the current N, update the best_test_error and optimal_k\n",
    "        if (test_error < best_test_error):\n",
    "            best_test_error = test_error\n",
    "            optimal_k = i\n",
    "        \n",
    "    #append the best test error and optimal k to list of all the best test errors and all the optimal k for each n    \n",
    "    n_list.append(n)\n",
    "    best_test_error_list.append(best_test_error)\n",
    "    optimal_k_list.append(optimal_k)"
   ]
  },
  {
   "cell_type": "code",
   "execution_count": 75,
   "metadata": {},
   "outputs": [],
   "source": [
    "#combine into one dataframe\n",
    "df_best_test_error_rate = pd.DataFrame()\n",
    "df_best_test_error_rate['n'] = n_list\n",
    "df_best_test_error_rate['optimal_k'] = optimal_k_list\n",
    "df_best_test_error_rate['best_error_rate'] = best_test_error_list"
   ]
  },
  {
   "cell_type": "code",
   "execution_count": 76,
   "metadata": {},
   "outputs": [
    {
     "data": {
      "text/html": [
       "<div>\n",
       "<style scoped>\n",
       "    .dataframe tbody tr th:only-of-type {\n",
       "        vertical-align: middle;\n",
       "    }\n",
       "\n",
       "    .dataframe tbody tr th {\n",
       "        vertical-align: top;\n",
       "    }\n",
       "\n",
       "    .dataframe thead th {\n",
       "        text-align: right;\n",
       "    }\n",
       "</style>\n",
       "<table border=\"1\" class=\"dataframe\">\n",
       "  <thead>\n",
       "    <tr style=\"text-align: right;\">\n",
       "      <th></th>\n",
       "      <th>n</th>\n",
       "      <th>optimal_k</th>\n",
       "      <th>best_error_rate</th>\n",
       "    </tr>\n",
       "  </thead>\n",
       "  <tbody>\n",
       "    <tr>\n",
       "      <th>0</th>\n",
       "      <td>10</td>\n",
       "      <td>1</td>\n",
       "      <td>0.25</td>\n",
       "    </tr>\n",
       "    <tr>\n",
       "      <th>1</th>\n",
       "      <td>20</td>\n",
       "      <td>6</td>\n",
       "      <td>0.20</td>\n",
       "    </tr>\n",
       "    <tr>\n",
       "      <th>2</th>\n",
       "      <td>30</td>\n",
       "      <td>1</td>\n",
       "      <td>0.22</td>\n",
       "    </tr>\n",
       "    <tr>\n",
       "      <th>3</th>\n",
       "      <td>40</td>\n",
       "      <td>11</td>\n",
       "      <td>0.25</td>\n",
       "    </tr>\n",
       "    <tr>\n",
       "      <th>4</th>\n",
       "      <td>50</td>\n",
       "      <td>26</td>\n",
       "      <td>0.30</td>\n",
       "    </tr>\n",
       "  </tbody>\n",
       "</table>\n",
       "</div>"
      ],
      "text/plain": [
       "    n  optimal_k  best_error_rate\n",
       "0  10          1             0.25\n",
       "1  20          6             0.20\n",
       "2  30          1             0.22\n",
       "3  40         11             0.25\n",
       "4  50         26             0.30"
      ]
     },
     "execution_count": 76,
     "metadata": {},
     "output_type": "execute_result"
    }
   ],
   "source": [
    "df_best_test_error_rate.head()"
   ]
  },
  {
   "cell_type": "markdown",
   "metadata": {},
   "source": [
    "##### Plot of learning curve: best test error rate against size of training set N"
   ]
  },
  {
   "cell_type": "code",
   "execution_count": 77,
   "metadata": {},
   "outputs": [
    {
     "data": {
      "text/plain": [
       "Text(0.5, 1.0, 'Learning Curve: Best Test Error Rate against Size of Training Set N')"
      ]
     },
     "execution_count": 77,
     "metadata": {},
     "output_type": "execute_result"
    },
    {
     "data": {
      "image/png": "[encoded data removed]",
      "text/plain": [
       "<Figure size 432x288 with 1 Axes>"
      ]
     },
     "metadata": {
      "needs_background": "light"
     },
     "output_type": "display_data"
    }
   ],
   "source": [
    "#plt.plot(n_list, best_test_error_list)\n",
    "plt.plot(df_best_test_error_rate['n'], df_best_test_error_rate['best_error_rate'])\n",
    "plt.xlabel(\"N\")\n",
    "plt.ylabel(\"Error\")\n",
    "plt.title(\"Learning Curve: Best Test Error Rate against Size of Training Set N\")"
   ]
  },
  {
   "cell_type": "markdown",
   "metadata": {},
   "source": [
    "## References/Citations\n",
    "\n",
    "https://pbpython.com/categorical-encoding.html\n",
    "\n",
    "https://stackoverflow.com/questions/31966494/compare-1-independent-vs-many-dependent-variables-using-seaborn-pairplot-in-an-h\n",
    "\n",
    "https://stackoverflow.com/questions/14885895/color-by-column-values-in-matplotlib\n",
    "\n",
    "https://stackoverflow.com/questions/47200033/how-to-adjust-transparency-alpha-in-seaborn-pairplot\n",
    "\n",
    "https://stats.stackexchange.com/questions/133458/is-accuracy-1-test-error-rate\n",
    "\n",
    "https://scikit-learn.org/stable/auto_examples/model_selection/plot_train_error_vs_test_error.html\n"
   ]
  }
 ],
 "metadata": {
  "kernelspec": {
   "display_name": "Python 3",
   "language": "python",
   "name": "python3"
  },
  "language_info": {
   "codemirror_mode": {
    "name": "ipython",
    "version": 3
   },
   "file_extension": ".py",
   "mimetype": "text/x-python",
   "name": "python",
   "nbconvert_exporter": "python",
   "pygments_lexer": "ipython3",
   "version": "3.7.6"
  }
 },
 "nbformat": 4,
 "nbformat_minor": 4
}
