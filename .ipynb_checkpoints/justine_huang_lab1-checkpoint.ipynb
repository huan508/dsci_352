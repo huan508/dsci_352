{
 "cells": [
  {
   "cell_type": "markdown",
   "metadata": {},
   "source": [
    "# DSCI352 Lab 1 - Justine Huang\n",
    "\n",
    "Name: Justine Huang\n",
    "\n",
    "USC ID: 7470811061\n",
    "\n",
    "Email: huan508@usc.edu"
   ]
  },
  {
   "cell_type": "code",
   "execution_count": 1,
   "metadata": {},
   "outputs": [],
   "source": [
    "import numpy as np\n",
    "import pandas as pd\n",
    "from sklearn.neighbors import KNeighborsClassifier\n",
    "import seaborn as sns\n",
    "from scipy.io import arff\n",
    "import matplotlib.pyplot as plt\n",
    "from sklearn.neighbors import DistanceMetric\n",
    "from sklearn.metrics import accuracy_score, confusion_matrix, f1_score, precision_score\n",
    "from sklearn.model_selection import train_test_split\n",
    "from sklearn.metrics import precision_recall_fscore_support\n",
    "import math\n",
    "\n",
    "%matplotlib inline"
   ]
  },
  {
   "cell_type": "markdown",
   "metadata": {},
   "source": [
    "## a) Download the Vertebral Column Data Set from"
   ]
  },
  {
   "cell_type": "code",
   "execution_count": 2,
   "metadata": {},
   "outputs": [],
   "source": [
    "data = arff.loadarff('vertebral_column_data/column_2C_weka.arff')"
   ]
  },
  {
   "cell_type": "code",
   "execution_count": 3,
   "metadata": {},
   "outputs": [],
   "source": [
    "df = pd.DataFrame(data[0])\n",
    "df['class'] = df['class'].str.decode('utf-8')"
   ]
  },
  {
   "cell_type": "code",
   "execution_count": 5,
   "metadata": {},
   "outputs": [
    {
     "data": {
      "text/html": [
       "<div>\n",
       "<style scoped>\n",
       "    .dataframe tbody tr th:only-of-type {\n",
       "        vertical-align: middle;\n",
       "    }\n",
       "\n",
       "    .dataframe tbody tr th {\n",
       "        vertical-align: top;\n",
       "    }\n",
       "\n",
       "    .dataframe thead th {\n",
       "        text-align: right;\n",
       "    }\n",
       "</style>\n",
       "<table border=\"1\" class=\"dataframe\">\n",
       "  <thead>\n",
       "    <tr style=\"text-align: right;\">\n",
       "      <th></th>\n",
       "      <th>pelvic_incidence</th>\n",
       "      <th>pelvic_tilt</th>\n",
       "      <th>lumbar_lordosis_angle</th>\n",
       "      <th>sacral_slope</th>\n",
       "      <th>pelvic_radius</th>\n",
       "      <th>degree_spondylolisthesis</th>\n",
       "      <th>class</th>\n",
       "    </tr>\n",
       "  </thead>\n",
       "  <tbody>\n",
       "    <tr>\n",
       "      <th>0</th>\n",
       "      <td>63.027817</td>\n",
       "      <td>22.552586</td>\n",
       "      <td>39.609117</td>\n",
       "      <td>40.475232</td>\n",
       "      <td>98.672917</td>\n",
       "      <td>-0.254400</td>\n",
       "      <td>Abnormal</td>\n",
       "    </tr>\n",
       "    <tr>\n",
       "      <th>1</th>\n",
       "      <td>39.056951</td>\n",
       "      <td>10.060991</td>\n",
       "      <td>25.015378</td>\n",
       "      <td>28.995960</td>\n",
       "      <td>114.405425</td>\n",
       "      <td>4.564259</td>\n",
       "      <td>Abnormal</td>\n",
       "    </tr>\n",
       "    <tr>\n",
       "      <th>2</th>\n",
       "      <td>68.832021</td>\n",
       "      <td>22.218482</td>\n",
       "      <td>50.092194</td>\n",
       "      <td>46.613539</td>\n",
       "      <td>105.985135</td>\n",
       "      <td>-3.530317</td>\n",
       "      <td>Abnormal</td>\n",
       "    </tr>\n",
       "    <tr>\n",
       "      <th>3</th>\n",
       "      <td>69.297008</td>\n",
       "      <td>24.652878</td>\n",
       "      <td>44.311238</td>\n",
       "      <td>44.644130</td>\n",
       "      <td>101.868495</td>\n",
       "      <td>11.211523</td>\n",
       "      <td>Abnormal</td>\n",
       "    </tr>\n",
       "    <tr>\n",
       "      <th>4</th>\n",
       "      <td>49.712859</td>\n",
       "      <td>9.652075</td>\n",
       "      <td>28.317406</td>\n",
       "      <td>40.060784</td>\n",
       "      <td>108.168725</td>\n",
       "      <td>7.918501</td>\n",
       "      <td>Abnormal</td>\n",
       "    </tr>\n",
       "  </tbody>\n",
       "</table>\n",
       "</div>"
      ],
      "text/plain": [
       "   pelvic_incidence  pelvic_tilt  lumbar_lordosis_angle  sacral_slope  \\\n",
       "0         63.027817    22.552586              39.609117     40.475232   \n",
       "1         39.056951    10.060991              25.015378     28.995960   \n",
       "2         68.832021    22.218482              50.092194     46.613539   \n",
       "3         69.297008    24.652878              44.311238     44.644130   \n",
       "4         49.712859     9.652075              28.317406     40.060784   \n",
       "\n",
       "   pelvic_radius  degree_spondylolisthesis     class  \n",
       "0      98.672917                 -0.254400  Abnormal  \n",
       "1     114.405425                  4.564259  Abnormal  \n",
       "2     105.985135                 -3.530317  Abnormal  \n",
       "3     101.868495                 11.211523  Abnormal  \n",
       "4     108.168725                  7.918501  Abnormal  "
      ]
     },
     "execution_count": 5,
     "metadata": {},
     "output_type": "execute_result"
    }
   ],
   "source": [
    "df.head()"
   ]
  },
  {
   "cell_type": "markdown",
   "metadata": {},
   "source": [
    "## b) Pre-Processing and Exploratory Data Analysis"
   ]
  },
  {
   "cell_type": "markdown",
   "metadata": {},
   "source": [
    "### i. Make scatterplots of the independent variables in the dataset. Use color to show Classes 0 and 1"
   ]
  },
  {
   "cell_type": "markdown",
   "metadata": {},
   "source": [
    "##### Encode: 0 to Normal, 1 to Abnormal"
   ]
  },
  {
   "cell_type": "code",
   "execution_count": 6,
   "metadata": {},
   "outputs": [],
   "source": [
    "encode = {\"class\": {\"Normal\": 0, \"Abnormal\": 1}}\n",
    "df = df.replace(encode)"
   ]
  },
  {
   "cell_type": "code",
   "execution_count": 7,
   "metadata": {},
   "outputs": [
    {
     "data": {
      "text/html": [
       "<div>\n",
       "<style scoped>\n",
       "    .dataframe tbody tr th:only-of-type {\n",
       "        vertical-align: middle;\n",
       "    }\n",
       "\n",
       "    .dataframe tbody tr th {\n",
       "        vertical-align: top;\n",
       "    }\n",
       "\n",
       "    .dataframe thead th {\n",
       "        text-align: right;\n",
       "    }\n",
       "</style>\n",
       "<table border=\"1\" class=\"dataframe\">\n",
       "  <thead>\n",
       "    <tr style=\"text-align: right;\">\n",
       "      <th></th>\n",
       "      <th>pelvic_incidence</th>\n",
       "      <th>pelvic_tilt</th>\n",
       "      <th>lumbar_lordosis_angle</th>\n",
       "      <th>sacral_slope</th>\n",
       "      <th>pelvic_radius</th>\n",
       "      <th>degree_spondylolisthesis</th>\n",
       "      <th>class</th>\n",
       "    </tr>\n",
       "  </thead>\n",
       "  <tbody>\n",
       "    <tr>\n",
       "      <th>0</th>\n",
       "      <td>63.027817</td>\n",
       "      <td>22.552586</td>\n",
       "      <td>39.609117</td>\n",
       "      <td>40.475232</td>\n",
       "      <td>98.672917</td>\n",
       "      <td>-0.254400</td>\n",
       "      <td>1</td>\n",
       "    </tr>\n",
       "    <tr>\n",
       "      <th>1</th>\n",
       "      <td>39.056951</td>\n",
       "      <td>10.060991</td>\n",
       "      <td>25.015378</td>\n",
       "      <td>28.995960</td>\n",
       "      <td>114.405425</td>\n",
       "      <td>4.564259</td>\n",
       "      <td>1</td>\n",
       "    </tr>\n",
       "    <tr>\n",
       "      <th>2</th>\n",
       "      <td>68.832021</td>\n",
       "      <td>22.218482</td>\n",
       "      <td>50.092194</td>\n",
       "      <td>46.613539</td>\n",
       "      <td>105.985135</td>\n",
       "      <td>-3.530317</td>\n",
       "      <td>1</td>\n",
       "    </tr>\n",
       "    <tr>\n",
       "      <th>3</th>\n",
       "      <td>69.297008</td>\n",
       "      <td>24.652878</td>\n",
       "      <td>44.311238</td>\n",
       "      <td>44.644130</td>\n",
       "      <td>101.868495</td>\n",
       "      <td>11.211523</td>\n",
       "      <td>1</td>\n",
       "    </tr>\n",
       "    <tr>\n",
       "      <th>4</th>\n",
       "      <td>49.712859</td>\n",
       "      <td>9.652075</td>\n",
       "      <td>28.317406</td>\n",
       "      <td>40.060784</td>\n",
       "      <td>108.168725</td>\n",
       "      <td>7.918501</td>\n",
       "      <td>1</td>\n",
       "    </tr>\n",
       "  </tbody>\n",
       "</table>\n",
       "</div>"
      ],
      "text/plain": [
       "   pelvic_incidence  pelvic_tilt  lumbar_lordosis_angle  sacral_slope  \\\n",
       "0         63.027817    22.552586              39.609117     40.475232   \n",
       "1         39.056951    10.060991              25.015378     28.995960   \n",
       "2         68.832021    22.218482              50.092194     46.613539   \n",
       "3         69.297008    24.652878              44.311238     44.644130   \n",
       "4         49.712859     9.652075              28.317406     40.060784   \n",
       "\n",
       "   pelvic_radius  degree_spondylolisthesis  class  \n",
       "0      98.672917                 -0.254400      1  \n",
       "1     114.405425                  4.564259      1  \n",
       "2     105.985135                 -3.530317      1  \n",
       "3     101.868495                 11.211523      1  \n",
       "4     108.168725                  7.918501      1  "
      ]
     },
     "execution_count": 7,
     "metadata": {},
     "output_type": "execute_result"
    }
   ],
   "source": [
    "df.head()"
   ]
  },
  {
   "cell_type": "markdown",
   "metadata": {},
   "source": [
    "##### Scatterplots of all independent variables against each other"
   ]
  },
  {
   "cell_type": "code",
   "execution_count": null,
   "metadata": {},
   "outputs": [],
   "source": [
    "scatterplots= sns.pairplot(data=df, hue = 'class', plot_kws={'alpha':0.4})"
   ]
  },
  {
   "cell_type": "markdown",
   "metadata": {},
   "source": [
    "### ii. Make boxplots for each of the independent variables. Use color to show Classes 0 and 1"
   ]
  },
  {
   "cell_type": "markdown",
   "metadata": {},
   "source": [
    "##### pelvic_incidence"
   ]
  },
  {
   "cell_type": "code",
   "execution_count": 65,
   "metadata": {},
   "outputs": [
    {
     "data": {
      "image/png": "[encoded data removed]",
      "text/plain": [
       "<Figure size 432x288 with 1 Axes>"
      ]
     },
     "metadata": {
      "needs_background": "light"
     },
     "output_type": "display_data"
    }
   ],
   "source": [
    "pi_boxplot = sns.boxplot(data=df, x='class', y='pelvic_incidence')"
   ]
  },
  {
   "cell_type": "markdown",
   "metadata": {},
   "source": [
    "##### pelvic_tilt"
   ]
  },
  {
   "cell_type": "code",
   "execution_count": 66,
   "metadata": {},
   "outputs": [
    {
     "data": {
      "image/png": "[encoded data removed]",
      "text/plain": [
       "<Figure size 432x288 with 1 Axes>"
      ]
     },
     "metadata": {
      "needs_background": "light"
     },
     "output_type": "display_data"
    }
   ],
   "source": [
    "pt_boxplot = sns.boxplot(data=df, x='class', y='pelvic_tilt')"
   ]
  },
  {
   "cell_type": "markdown",
   "metadata": {},
   "source": [
    "##### lumbar_lordosis_angle"
   ]
  },
  {
   "cell_type": "code",
   "execution_count": 67,
   "metadata": {},
   "outputs": [
    {
     "data": {
      "image/png": "[encoded data removed]",
      "text/plain": [
       "<Figure size 432x288 with 1 Axes>"
      ]
     },
     "metadata": {
      "needs_background": "light"
     },
     "output_type": "display_data"
    }
   ],
   "source": [
    "lla_boxplot = sns.boxplot(data=df, x='class', y='lumbar_lordosis_angle')"
   ]
  },
  {
   "cell_type": "markdown",
   "metadata": {},
   "source": [
    "##### sacral_slope"
   ]
  },
  {
   "cell_type": "code",
   "execution_count": 69,
   "metadata": {},
   "outputs": [
    {
     "data": {
      "image/png": "[encoded data removed]",
      "text/plain": [
       "<Figure size 432x288 with 1 Axes>"
      ]
     },
     "metadata": {
      "needs_background": "light"
     },
     "output_type": "display_data"
    }
   ],
   "source": [
    "ss_boxplot = sns.boxplot(data=df, x='class', y='sacral_slope')"
   ]
  },
  {
   "cell_type": "markdown",
   "metadata": {},
   "source": [
    "##### pelvic_radius"
   ]
  },
  {
   "cell_type": "code",
   "execution_count": 70,
   "metadata": {},
   "outputs": [
    {
     "data": {
      "image/png": "[encoded data removed]",
      "text/plain": [
       "<Figure size 432x288 with 1 Axes>"
      ]
     },
     "metadata": {
      "needs_background": "light"
     },
     "output_type": "display_data"
    }
   ],
   "source": [
    "pr_boxplot = sns.boxplot(data=df, x='class', y='pelvic_radius')"
   ]
  },
  {
   "cell_type": "markdown",
   "metadata": {},
   "source": [
    "##### degree_spondylolisthesis"
   ]
  },
  {
   "cell_type": "code",
   "execution_count": 77,
   "metadata": {},
   "outputs": [
    {
     "data": {
      "image/png": "[encoded data removed]",
      "text/plain": [
       "<Figure size 288x576 with 1 Axes>"
      ]
     },
     "metadata": {
      "needs_background": "light"
     },
     "output_type": "display_data"
    }
   ],
   "source": [
    "plt.figure(figsize=(4,8))\n",
    "ds_boxplot = sns.boxplot(data=df, x='class', y='degree_spondylolisthesis')"
   ]
  },
  {
   "cell_type": "markdown",
   "metadata": {},
   "source": [
    "### iii. Select the first 70 rows of Class 0 and the first 140 rows of Class 1 as the training set and the rest of the data as the test set."
   ]
  },
  {
   "cell_type": "code",
   "execution_count": 101,
   "metadata": {},
   "outputs": [],
   "source": [
    "#training data from class 0 and 1\n",
    "train_0 = df.loc[df['class'] == 0][:70]\n",
    "train_1 = df.loc[df['class'] == 1][:140]"
   ]
  },
  {
   "cell_type": "code",
   "execution_count": 103,
   "metadata": {},
   "outputs": [],
   "source": [
    "#test data from class 0 and 1\n",
    "test_0 = df.loc[df['class'] == 0][70:]\n",
    "test_1 = df.loc[df['class'] == 1][140:]"
   ]
  },
  {
   "cell_type": "code",
   "execution_count": 107,
   "metadata": {},
   "outputs": [],
   "source": [
    "#combine train data, combine test data\n",
    "train = train_0.append(train_1)\n",
    "test = test_0.append(test_1)"
   ]
  },
  {
   "cell_type": "code",
   "execution_count": 113,
   "metadata": {},
   "outputs": [
    {
     "name": "stdout",
     "output_type": "stream",
     "text": [
      "   pelvic_incidence  pelvic_tilt  lumbar_lordosis_angle  sacral_slope  \\\n",
      "0         38.505273    16.964297              35.112814     21.540976   \n",
      "1         54.920858    18.968430              51.601455     35.952428   \n",
      "2         44.362490     8.945435              46.902096     35.417055   \n",
      "3         48.318931    17.452121              48.000000     30.866809   \n",
      "4         45.701789    10.659859              42.577846     35.041929   \n",
      "\n",
      "   pelvic_radius  degree_spondylolisthesis  class  \n",
      "0     127.632875                  7.986683      0  \n",
      "1     125.846646                  2.001642      0  \n",
      "2     129.220682                  4.994195      0  \n",
      "3     128.980308                 -0.910941      0  \n",
      "4     130.178314                 -3.388910      0  \n",
      "   pelvic_incidence  pelvic_tilt  lumbar_lordosis_angle  sacral_slope  \\\n",
      "0         50.086153    13.430044              34.457541     36.656108   \n",
      "1         64.261507    14.497866              43.902504     49.763642   \n",
      "2         53.683380    13.447022              41.584297     40.236358   \n",
      "3         48.995958    13.113820              51.873520     35.882137   \n",
      "4         59.167612    14.562749              43.199158     44.604863   \n",
      "\n",
      "   pelvic_radius  degree_spondylolisthesis  class  \n",
      "0     119.134622                  3.089484      0  \n",
      "1     115.388268                  5.951454      0  \n",
      "2     113.913703                  2.737035      0  \n",
      "3     126.398188                  0.535472      0  \n",
      "4     121.035642                  2.830504      0  \n"
     ]
    }
   ],
   "source": [
    "#reset indices\n",
    "train.reset_index(drop=True,inplace=True)\n",
    "test.reset_index(drop=True,inplace=True)\n",
    "print(train.head())\n",
    "print(test.head())"
   ]
  },
  {
   "cell_type": "code",
   "execution_count": 1,
   "metadata": {},
   "outputs": [
    {
     "ename": "NameError",
     "evalue": "name 'train' is not defined",
     "output_type": "error",
     "traceback": [
      "\u001b[0;31m---------------------------------------------------------------------------\u001b[0m",
      "\u001b[0;31mNameError\u001b[0m                                 Traceback (most recent call last)",
      "\u001b[0;32m<ipython-input-1-1563c61fc939>\u001b[0m in \u001b[0;36m<module>\u001b[0;34m\u001b[0m\n\u001b[0;32m----> 1\u001b[0;31m \u001b[0mtrain\u001b[0m\u001b[0;34m.\u001b[0m\u001b[0minfo\u001b[0m\u001b[0;34m(\u001b[0m\u001b[0;34m)\u001b[0m\u001b[0;34m\u001b[0m\u001b[0;34m\u001b[0m\u001b[0m\n\u001b[0m\u001b[1;32m      2\u001b[0m \u001b[0mtest\u001b[0m\u001b[0;34m.\u001b[0m\u001b[0minfo\u001b[0m\u001b[0;34m(\u001b[0m\u001b[0;34m)\u001b[0m\u001b[0;34m\u001b[0m\u001b[0;34m\u001b[0m\u001b[0m\n",
      "\u001b[0;31mNameError\u001b[0m: name 'train' is not defined"
     ]
    }
   ],
   "source": [
    "train.info()\n",
    "test.info()"
   ]
  },
  {
   "cell_type": "code",
   "execution_count": 126,
   "metadata": {},
   "outputs": [],
   "source": [
    "#split x and y values\n",
    "X_train = train.iloc[:,:-1]\n",
    "Y_train = train.iloc[:,-1]\n",
    "X_test = test.iloc[:,:-1]\n",
    "Y_test = test.iloc[:,-1]"
   ]
  },
  {
   "cell_type": "markdown",
   "metadata": {},
   "source": [
    "## c) Classification using KNN on Vertebral Column Data Set"
   ]
  },
  {
   "cell_type": "markdown",
   "metadata": {},
   "source": [
    "### i. Write code for k-nearest neighbors with Euclidean metric (or use a software package)."
   ]
  },
  {
   "cell_type": "code",
   "execution_count": 115,
   "metadata": {},
   "outputs": [],
   "source": [
    "dist = DistanceMetric.get_metric('euclidean')"
   ]
  },
  {
   "cell_type": "markdown",
   "metadata": {},
   "source": [
    "### ii. Test all the data in the test database with k nearest neighbors. Take decisions by majority polling. Plot train and test errors in terms of k for k ∈ {208, 205, . . . , 7, 4, 1, } (in reverse order). Which k∗ is the most suitable k among those values? Cal-culate the confusion matrix, true positive rate, true negative rate, precision, and F1-score when k = k*.\n",
    "\n",
    "https://stats.stackexchange.com/questions/133458/is-accuracy-1-test-error-rate"
   ]
  },
  {
   "cell_type": "code",
   "execution_count": 175,
   "metadata": {},
   "outputs": [
    {
     "name": "stdout",
     "output_type": "stream",
     "text": [
      "k = 208 acc: 0.7 train_error: 0.33333333333333337 test_error: 0.30000000000000004\n",
      "k = 205 acc: 0.7 train_error: 0.33333333333333337 test_error: 0.30000000000000004\n",
      "k = 202 acc: 0.7 train_error: 0.33333333333333337 test_error: 0.30000000000000004\n",
      "k = 199 acc: 0.7 train_error: 0.33333333333333337 test_error: 0.30000000000000004\n",
      "k = 196 acc: 0.7 train_error: 0.33333333333333337 test_error: 0.30000000000000004\n",
      "k = 193 acc: 0.7 train_error: 0.33333333333333337 test_error: 0.30000000000000004\n",
      "k = 190 acc: 0.7 train_error: 0.33333333333333337 test_error: 0.30000000000000004\n",
      "k = 187 acc: 0.7 train_error: 0.33333333333333337 test_error: 0.30000000000000004\n",
      "k = 184 acc: 0.7 train_error: 0.33333333333333337 test_error: 0.30000000000000004\n",
      "k = 181 acc: 0.7 train_error: 0.33333333333333337 test_error: 0.30000000000000004\n",
      "k = 178 acc: 0.7 train_error: 0.33333333333333337 test_error: 0.30000000000000004\n",
      "k = 175 acc: 0.7 train_error: 0.33333333333333337 test_error: 0.30000000000000004\n",
      "k = 172 acc: 0.7 train_error: 0.33333333333333337 test_error: 0.30000000000000004\n",
      "k = 169 acc: 0.7 train_error: 0.33333333333333337 test_error: 0.30000000000000004\n",
      "k = 166 acc: 0.7 train_error: 0.33333333333333337 test_error: 0.30000000000000004\n",
      "k = 163 acc: 0.7 train_error: 0.33333333333333337 test_error: 0.30000000000000004\n",
      "k = 160 acc: 0.7 train_error: 0.33333333333333337 test_error: 0.30000000000000004\n",
      "k = 157 acc: 0.7 train_error: 0.33333333333333337 test_error: 0.30000000000000004\n",
      "k = 154 acc: 0.7 train_error: 0.33333333333333337 test_error: 0.30000000000000004\n",
      "k = 151 acc: 0.7 train_error: 0.33333333333333337 test_error: 0.30000000000000004\n",
      "k = 148 acc: 0.7 train_error: 0.33333333333333337 test_error: 0.30000000000000004\n",
      "k = 145 acc: 0.7 train_error: 0.33333333333333337 test_error: 0.30000000000000004\n",
      "k = 142 acc: 0.7 train_error: 0.33333333333333337 test_error: 0.30000000000000004\n",
      "k = 139 acc: 0.7 train_error: 0.33333333333333337 test_error: 0.30000000000000004\n",
      "k = 136 acc: 0.72 train_error: 0.30952380952380953 test_error: 0.28\n",
      "k = 133 acc: 0.73 train_error: 0.29047619047619044 test_error: 0.27\n",
      "k = 130 acc: 0.76 train_error: 0.24761904761904763 test_error: 0.24\n",
      "k = 127 acc: 0.77 train_error: 0.24761904761904763 test_error: 0.22999999999999998\n",
      "k = 124 acc: 0.8 train_error: 0.2142857142857143 test_error: 0.19999999999999996\n",
      "k = 121 acc: 0.78 train_error: 0.2142857142857143 test_error: 0.21999999999999997\n",
      "k = 118 acc: 0.85 train_error: 0.18571428571428572 test_error: 0.15000000000000002\n",
      "k = 115 acc: 0.8 train_error: 0.20952380952380956 test_error: 0.19999999999999996\n",
      "k = 112 acc: 0.84 train_error: 0.16666666666666663 test_error: 0.16000000000000003\n",
      "k = 109 acc: 0.84 train_error: 0.17142857142857137 test_error: 0.16000000000000003\n",
      "k = 106 acc: 0.85 train_error: 0.1523809523809524 test_error: 0.15000000000000002\n",
      "k = 103 acc: 0.82 train_error: 0.15714285714285714 test_error: 0.18000000000000005\n",
      "k = 100 acc: 0.86 train_error: 0.17619047619047623 test_error: 0.14\n",
      "k = 97 acc: 0.84 train_error: 0.1523809523809524 test_error: 0.16000000000000003\n",
      "k = 94 acc: 0.85 train_error: 0.15714285714285714 test_error: 0.15000000000000002\n",
      "k = 91 acc: 0.84 train_error: 0.16666666666666663 test_error: 0.16000000000000003\n",
      "k = 88 acc: 0.83 train_error: 0.17619047619047623 test_error: 0.17000000000000004\n",
      "k = 85 acc: 0.84 train_error: 0.17142857142857137 test_error: 0.16000000000000003\n",
      "k = 82 acc: 0.86 train_error: 0.18095238095238098 test_error: 0.14\n",
      "k = 79 acc: 0.87 train_error: 0.18571428571428572 test_error: 0.13\n",
      "k = 76 acc: 0.88 train_error: 0.17619047619047623 test_error: 0.12\n",
      "k = 73 acc: 0.87 train_error: 0.16666666666666663 test_error: 0.13\n",
      "k = 70 acc: 0.88 train_error: 0.16190476190476188 test_error: 0.12\n",
      "k = 67 acc: 0.87 train_error: 0.16666666666666663 test_error: 0.13\n",
      "k = 64 acc: 0.88 train_error: 0.16190476190476188 test_error: 0.12\n",
      "k = 61 acc: 0.88 train_error: 0.16190476190476188 test_error: 0.12\n",
      "k = 58 acc: 0.88 train_error: 0.16666666666666663 test_error: 0.12\n",
      "k = 55 acc: 0.88 train_error: 0.17142857142857137 test_error: 0.12\n",
      "k = 52 acc: 0.89 train_error: 0.16190476190476188 test_error: 0.10999999999999999\n",
      "k = 49 acc: 0.89 train_error: 0.16190476190476188 test_error: 0.10999999999999999\n",
      "k = 46 acc: 0.88 train_error: 0.1523809523809524 test_error: 0.12\n",
      "k = 43 acc: 0.88 train_error: 0.16190476190476188 test_error: 0.12\n",
      "k = 40 acc: 0.9 train_error: 0.16666666666666663 test_error: 0.09999999999999998\n",
      "k = 37 acc: 0.89 train_error: 0.1523809523809524 test_error: 0.10999999999999999\n",
      "k = 34 acc: 0.89 train_error: 0.1523809523809524 test_error: 0.10999999999999999\n",
      "k = 31 acc: 0.89 train_error: 0.14761904761904765 test_error: 0.10999999999999999\n",
      "k = 28 acc: 0.9 train_error: 0.13809523809523805 test_error: 0.09999999999999998\n",
      "k = 25 acc: 0.89 train_error: 0.13809523809523805 test_error: 0.10999999999999999\n",
      "k = 22 acc: 0.9 train_error: 0.1523809523809524 test_error: 0.09999999999999998\n",
      "k = 19 acc: 0.89 train_error: 0.14761904761904765 test_error: 0.10999999999999999\n",
      "k = 16 acc: 0.91 train_error: 0.15714285714285714 test_error: 0.08999999999999997\n",
      "k = 13 acc: 0.88 train_error: 0.1428571428571429 test_error: 0.12\n",
      "k = 10 acc: 0.9 train_error: 0.1333333333333333 test_error: 0.09999999999999998\n",
      "k = 7 acc: 0.88 train_error: 0.1428571428571429 test_error: 0.12\n",
      "k = 4 acc: 0.94 train_error: 0.1428571428571429 test_error: 0.06000000000000005\n",
      "k = 1 acc: 0.87 train_error: 0.0 test_error: 0.13\n"
     ]
    }
   ],
   "source": [
    "accuracies = []\n",
    "train_errors = []\n",
    "test_errors = []\n",
    "\n",
    "#test data for k ∈ {208, 205, . . . , 7, 4, 1, } nearest neighbors\n",
    "for i in range(208, 0, -3):\n",
    "    classifier = KNeighborsClassifier(n_neighbors=i, p=2) ############### do i just have to add p=2 for the euclidean metric?? and do i just do that to increment backwards\n",
    "    classifier.fit(X_train, Y_train)\n",
    "    \n",
    "    y_pred = classifier.predict(X_test)\n",
    "    train_error = 1 - classifier.score(X_train, Y_train)\n",
    "    test_error = 1 - classifier.score(X_test, Y_test)\n",
    "    train_errors.append(train_error)\n",
    "    test_errors.append(test_error)\n",
    "    accuracies.append(accuracy_score(Y_test, y_pred))\n",
    "    print(\"k =\", i, \"acc:\", accuracy_score(Y_test, y_pred), \"train_error:\", train_error, \"test_error:\", test_error)\n",
    "    \n",
    "# print(accuracies)"
   ]
  },
  {
   "cell_type": "code",
   "execution_count": 177,
   "metadata": {},
   "outputs": [],
   "source": [
    "k_list = []\n",
    "for i in range(208, 0, -3):\n",
    "    k_list.append(i)"
   ]
  },
  {
   "cell_type": "markdown",
   "metadata": {},
   "source": [
    "https://scikit-learn.org/stable/auto_examples/model_selection/plot_train_error_vs_test_error.html"
   ]
  },
  {
   "cell_type": "code",
   "execution_count": 201,
   "metadata": {},
   "outputs": [
    {
     "data": {
      "text/plain": [
       "Text(0, 0.5, 'Error')"
      ]
     },
     "execution_count": 201,
     "metadata": {},
     "output_type": "execute_result"
    },
    {
     "data": {
      "image/png": "[encoded data removed]",
      "text/plain": [
       "<Figure size 432x288 with 1 Axes>"
      ]
     },
     "metadata": {
      "needs_background": "light"
     },
     "output_type": "display_data"
    }
   ],
   "source": [
    "#plotting Plot train and test errors in terms of k for k ∈ {208, 205, . . . , 7, 4, 1, }\n",
    "plt.plot(k_list, train_errors, label = 'train error') ################# DO I NEED TO PLOT IN REVERSE ORDER???\n",
    "plt.plot(k_list, test_errors, label = 'test error')\n",
    "plt.vlines(k_best, plt.ylim()[0], np.max(test_errors),linewidth=2, label='Best k')\n",
    "plt.legend()\n",
    "plt.xlabel(\"k\")\n",
    "plt.ylabel(\"Error\")"
   ]
  },
  {
   "cell_type": "code",
   "execution_count": 206,
   "metadata": {},
   "outputs": [
    {
     "name": "stdout",
     "output_type": "stream",
     "text": [
      "k* = 4 is the most suitable k for k ∈ {208, 205, . . . , 7, 4, 1, }.\n"
     ]
    }
   ],
   "source": [
    "#finding k*\n",
    "k_best = k_list[np.argmax(accuracies)]\n",
    "print(\"k* =\", k_best,\"is the most suitable k for k ∈ {208, 205, . . . , 7, 4, 1, }.\")"
   ]
  },
  {
   "cell_type": "code",
   "execution_count": 207,
   "metadata": {},
   "outputs": [
    {
     "name": "stdout",
     "output_type": "stream",
     "text": [
      "confusion matrix:\n",
      " [[25  5]\n",
      " [ 1 69]]\n",
      "f1_score:\n",
      " [0.89285714 0.95833333]\n"
     ]
    }
   ],
   "source": [
    "#confusion matrix, true positive rate, true negative rate, f1 score\n",
    "classifier = KNeighborsClassifier(n_neighbors = 4, p=2)\n",
    "classifier.fit(X_train, Y_train)\n",
    "\n",
    "y_pred = classifier.predict(X_test)\n",
    "print(\"confusion matrix:\\n\", confusion_matrix(Y_test, y_pred))\n",
    "print(\"f1_score:\\n\", f1_score(Y_test, y_pred, average=None))"
   ]
  },
  {
   "cell_type": "code",
   "execution_count": 159,
   "metadata": {},
   "outputs": [
    {
     "data": {
      "text/plain": [
       "(25, 5, 1, 69)"
      ]
     },
     "execution_count": 159,
     "metadata": {},
     "output_type": "execute_result"
    }
   ],
   "source": [
    "tn, fp, fn, tp = confusion_matrix(Y_test, y_pred).ravel()\n",
    "(tn, fp, fn, tp)"
   ]
  },
  {
   "cell_type": "code",
   "execution_count": 164,
   "metadata": {},
   "outputs": [
    {
     "data": {
      "text/plain": [
       "(array([0.96153846, 0.93243243]),\n",
       " array([0.83333333, 0.98571429]),\n",
       " array([0.89285714, 0.95833333]),\n",
       " array([30, 70]))"
      ]
     },
     "execution_count": 164,
     "metadata": {},
     "output_type": "execute_result"
    }
   ],
   "source": [
    "precision_recall_fscore_support(Y_test.toseries(), y_pred)"
   ]
  },
  {
   "cell_type": "code",
   "execution_count": 208,
   "metadata": {},
   "outputs": [],
   "source": [
    "# https://stats.stackexchange.com/questions/95209/how-can-i-interpret-a-confusion-matrix\n",
    "# pd.crosstab(Y_train, y_pred, rownames=['True'], colnames=['Predicted'], margins=True)"
   ]
  },
  {
   "cell_type": "markdown",
   "metadata": {},
   "source": [
    "### iii. Plot the best test error rate"
   ]
  }
 ],
 "metadata": {
  "kernelspec": {
   "display_name": "Python 3",
   "language": "python",
   "name": "python3"
  },
  "language_info": {
   "codemirror_mode": {
    "name": "ipython",
    "version": 3
   },
   "file_extension": ".py",
   "mimetype": "text/x-python",
   "name": "python",
   "nbconvert_exporter": "python",
   "pygments_lexer": "ipython3",
   "version": "3.7.6"
  }
 },
 "nbformat": 4,
 "nbformat_minor": 4
}
